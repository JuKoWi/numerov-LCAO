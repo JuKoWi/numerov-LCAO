{
 "cells": [
  {
   "cell_type": "markdown",
   "metadata": {},
   "source": [
    "**Name and Matrikel number**"
   ]
  },
  {
   "cell_type": "code",
   "execution_count": 34,
   "metadata": {},
   "outputs": [],
   "source": [
    "import matplotlib.pyplot as plt\n",
    "import numpy as np\n",
    "\n",
    "# Import the prepared functions\n",
    "from numerov import solve_schroedinger, symmetric"
   ]
  },
  {
   "cell_type": "markdown",
   "metadata": {},
   "source": [
    "# 1D Atom\n",
    "\n",
    "In this project, we will try to mimic atoms and molecules in 1D using a Pöschl–Teller potential:"
   ]
  },
  {
   "cell_type": "code",
   "execution_count": 35,
   "metadata": {},
   "outputs": [],
   "source": [
    "def poeschl_teller(xs, lam=1, a=1):\n",
    "    \"\"\"Poeschl-Teller potential.\n",
    "\n",
    "    See https://en.wikipedia.org/wiki/Pöschl–Teller_potential\n",
    "    \"\"\"\n",
    "    return -lam * (lam + 1) * a**2 / (2 * np.cosh(a * xs) ** 2)"
   ]
  },
  {
   "cell_type": "code",
   "execution_count": 36,
   "metadata": {},
   "outputs": [],
   "source": [
    "# Input parameters\n",
    "N = 2000  # Number of grid points\n",
    "xmax = 25  # Extent of the grid\n",
    "\n",
    "# Preparation of the grid\n",
    "xs = np.linspace(0, xmax, N)\n",
    "h = xs[1] - xs[0]\n",
    "\n",
    "# ...and the potential\n",
    "V = poeschl_teller(xs, lam=2)"
   ]
  },
  {
   "cell_type": "markdown",
   "metadata": {},
   "source": [
    "<div class=\"alert alert-block alert-info\">\n",
    "<b>1st Task:</b> Plot the potential and the ground-state wave function. \n",
    "</div> "
   ]
  },
  {
   "cell_type": "markdown",
   "id": "a533921c",
   "metadata": {},
   "source": [
    "Questions so far:\n",
    "- Why does small N give such astonishinly bad results? (changing N = 500 -> N = 5000 gave zero nodes)\n",
    "- Why is this only a problem in one implementation?\n",
    "- Why is the upper bound criterion based on the number of nodes and the lower bound criterion on the behaviour of the wavefunction \n",
    "- What is the meaning of k in the schrödinger solve function?\n",
    "- How are the psi0 -psi3 with the right number of nodes if their paritys should not allow that\n",
    "\n"
   ]
  },
  {
   "cell_type": "code",
   "execution_count": 39,
   "metadata": {},
   "outputs": [
    {
     "name": "stdout",
     "output_type": "stream",
     "text": [
      "tried E=-3.0 got n_nodes=0 and E=-2.00\n"
     ]
    }
   ],
   "source": [
    "k = 0 # Ellipses (...) indicate places where you have to add code\n",
    "gerade = True\n",
    "Etry = V.min()\n",
    "\n",
    "u, E, dE, n_nodes = solve_schroedinger(V, k, gerade, h, Etry=Etry)\n",
    "print(f\"tried E={Etry:.1f} got n_nodes={n_nodes} and E={E:.2f}\")"
   ]
  },
  {
   "cell_type": "code",
   "execution_count": 40,
   "metadata": {},
   "outputs": [
    {
     "data": {
      "text/plain": [
       "<matplotlib.legend.Legend at 0x746ce5447250>"
      ]
     },
     "execution_count": 40,
     "metadata": {},
     "output_type": "execute_result"
    },
    {
     "data": {
      "image/png": "[encoded data removed]",
      "text/plain": [
       "<Figure size 640x480 with 2 Axes>"
      ]
     },
     "metadata": {},
     "output_type": "display_data"
    }
   ],
   "source": [
    "xg = symmetric(xs, gerade=False)\n",
    "full_u = symmetric(u, gerade=gerade)\n",
    "full_V = symmetric(V, gerade=True)\n",
    "fix, axs = plt.subplots(2, 1, sharex=True)\n",
    "\n",
    "axs[0].plot(xg, full_V)\n",
    "\n",
    "axs[1].plot(xg, full_u, label=f\"E = {E:.2f}\")\n",
    "axs[1].legend()"
   ]
  },
  {
   "cell_type": "markdown",
   "metadata": {},
   "source": [
    "<div class=\"alert alert-block alert-info\">\n",
    "<b>Calculate</b> the normalized wave functions for the ground state and the first excited state, psia0 and psia1.<br>\n",
    "<b>Check</b> that they are normalized and plot them.\n",
    "</div>"
   ]
  },
  {
   "cell_type": "code",
   "execution_count": null,
   "metadata": {},
   "outputs": [],
   "source": [
    "xg = symmetric(xs, gerade=False)\n",
    "\n",
    "u, Ea0, dE, n_nodes = solve_schroedinger(V, k=0, gerade=True, h=h, Etry=V.min())\n",
    "psia0 = ..\n",
    "..."
   ]
  },
  {
   "cell_type": "code",
   "execution_count": null,
   "metadata": {},
   "outputs": [],
   "source": [
    "norm0 = ...\n",
    "..."
   ]
  },
  {
   "cell_type": "code",
   "execution_count": null,
   "metadata": {},
   "outputs": [],
   "source": [
    "fix, axs = plt.subplots(1, 1)\n",
    "..."
   ]
  },
  {
   "cell_type": "markdown",
   "metadata": {},
   "source": [
    "# 1D Molecules\n",
    "\n",
    "Next, we look into a simplified model for $H_2$. To this end, we place two atomic potentials at a distance $R$\n",
    "\\begin{equation}\n",
    "    V(x) = V_{at}\\left(x-\\frac{R}{2}\\right) + V_{at}\\left(x+\\frac{R}{2}\\right).\n",
    "\\end{equation}\n",
    "Obviously, for large $R$ we get two separate \"atoms\"."
   ]
  },
  {
   "cell_type": "code",
   "execution_count": null,
   "metadata": {},
   "outputs": [],
   "source": [
    "# Input parameters\n",
    "N = 2000  # Number of grid points\n",
    "xmax = 2  # Extent of the grid\n",
    "\n",
    "R = 4  # Distance\n",
    "\n",
    "# Preparation of the grid\n",
    "xs = np.linspace(0, xmax, N)\n",
    "h = xs[1] - xs[0]\n",
    "\n",
    "# ...and the potential\n",
    "V = poeschl_teller(xs - R / 2, lam=2) + poeschl_teller(xs + R / 2, lam=2)"
   ]
  },
  {
   "cell_type": "code",
   "execution_count": null,
   "metadata": {},
   "outputs": [],
   "source": [
    "# Let's look at some state as before\n",
    "k = 0\n",
    "gerade = True\n",
    "Etry = V.min()\n",
    "\n",
    "u, E, dE, n_nodes = solve_schroedinger(V, k, gerade, h, Etry=Etry)\n",
    "print(f\"tried E={Etry:.1f} got n_nodes={n_nodes} and E={E:.2f}\")"
   ]
  },
  {
   "cell_type": "code",
   "execution_count": null,
   "metadata": {},
   "outputs": [],
   "source": [
    "fix, axs = plt.subplots(2, 1, sharex=True)\n",
    "\n",
    "axs[0].plot(xs, V, color=\"black\")\n",
    "axs[0].axhline(y=E, color=\"grey\")\n",
    "axs[0].set_ylabel(r\"$V$\")\n",
    "axs[0].set_xlim((0, 5))\n",
    "axs[0].set_ylim((V.min() - 0.1, 0.5))\n",
    "\n",
    "axs[1].plot(xs, u, label=f\"E={E:.1f}\")\n",
    "axs[1].set_xlabel(r\"$x$\")\n",
    "axs[1].set_ylabel(r\"$u$\")\n",
    "\n",
    "plt.legend()\n",
    "plt.tight_layout()\n",
    "plt.show()"
   ]
  },
  {
   "cell_type": "markdown",
   "metadata": {},
   "source": [
    "<div class=\"alert alert-block alert-info\">\n",
    "<b>Have</b> a look at some different distances. What do you conclude?\n",
    "</div>"
   ]
  },
  {
   "cell_type": "markdown",
   "metadata": {},
   "source": [
    "<span style=\"color:red\">**Your Answer**</span>"
   ]
  },
  {
   "cell_type": "code",
   "execution_count": null,
   "metadata": {},
   "outputs": [],
   "source": [
    "# As before, we want to extend the wave functions to the whole x-axis and normalize them\n",
    "xg = symmetric(xs, gerade=False)\n",
    "\n",
    "# Here, we only look at the first two\n",
    "u, E0, dE, n_nodes = solve_schroedinger(V, k=0, gerade=True, h=h, Etry=V.min())\n",
    "psi0 = symmetric(u, gerade=True)\n",
    "psi0 /= np.sqrt(np.trapz(psi0 * psi0, dx=h))\n",
    "\n",
    "u, E1, dE, n_nodes = solve_schroedinger(V, k=0, gerade=False, h=h, Etry=V.min())\n",
    "psi1 = symmetric(u, gerade=False)\n",
    "psi1 /= np.sqrt(np.trapz(psi1 * psi1, dx=h))"
   ]
  },
  {
   "cell_type": "code",
   "execution_count": null,
   "metadata": {},
   "outputs": [],
   "source": [
    "fix, axs = plt.subplots(1, 1)\n",
    "\n",
    "# Plot the wave functions\n",
    "axs.plot(xg, psi0, label=f\"$n=0: E={E0:.2f}$\", linewidth=2)\n",
    "axs.plot(xg, psi1, label=f\"$n=1: E={E1:.2f}$\", linewidth=2)\n",
    "\n",
    "# Compare with atomic ground-state\n",
    "axs.plot(xg + R / 2, psia0 / np.sqrt(2), \"k--\", label=\"atom GS\")\n",
    "axs.plot(xg - R / 2, psia0 / np.sqrt(2), \"k--\")\n",
    "axs.set_xlabel(r\"$x$\")\n",
    "axs.set_ylabel(r\"$u_n$\")\n",
    "axs.set_xlim((-10, 10))\n",
    "\n",
    "plt.legend()\n",
    "plt.tight_layout()\n",
    "plt.show()"
   ]
  },
  {
   "cell_type": "markdown",
   "metadata": {},
   "source": [
    "<div class=\"alert alert-block alert-info\">\n",
    "<b>Calculate and plot</b> the probability density for the two wave functions. Which one is likely to be binding and which one is anti-binding (indicate in the plot)?\n",
    "</div>"
   ]
  },
  {
   "cell_type": "code",
   "execution_count": null,
   "metadata": {},
   "outputs": [],
   "source": [
    "fix, axs = plt.subplots(1, 1)\n",
    "..."
   ]
  },
  {
   "cell_type": "markdown",
   "metadata": {},
   "source": [
    "## Potential energy curve\n",
    "\n",
    "As you have seen, the energies depend on the distance between the atoms. We repeat the calculation above for different distances and collect the energies."
   ]
  },
  {
   "cell_type": "code",
   "execution_count": null,
   "metadata": {},
   "outputs": [],
   "source": [
    "# Input parameters\n",
    "N = 2000  # Number of grid points\n",
    "xmax = 25  # Extent of the grid\n",
    "\n",
    "# Preparation of the grid\n",
    "xs = np.linspace(0, xmax, N)\n",
    "h = xs[1] - xs[0]\n",
    "\n",
    "Rs = np.linspace(2, 6, 10)  # Distances\n",
    "\n",
    "energies = []\n",
    "for R in Rs:\n",
    "    # Setup the potential\n",
    "    V = poeschl_teller(xs - R / 2, lam=2) + poeschl_teller(xs + R / 2, lam=2)\n",
    "\n",
    "    # We only look at the first two states and are only interested in the energies\n",
    "    u, E0, dE, n_nodes = solve_schroedinger(V, k=0, gerade=True, h=h, Etry=V.min())\n",
    "    u, E1, dE, n_nodes = solve_schroedinger(V, k=0, gerade=False, h=h, Etry=V.min())\n",
    "\n",
    "    energies.append([E0, E1])\n",
    "energies = np.array(energies)"
   ]
  },
  {
   "cell_type": "code",
   "execution_count": null,
   "metadata": {},
   "outputs": [],
   "source": [
    "fix, axs = plt.subplots(1, 1)\n",
    "\n",
    "# Plot potential energy curves\n",
    "axs.plot(Rs, energies[:, 0], label=\"$E_0$\", color=\"black\")\n",
    "axs.plot(Rs, energies[:, 1], label=\"$E_1$\", color=\"darkred\")\n",
    "axs.set_xlabel(r\"$R$\")\n",
    "axs.set_ylabel(r\"$E$\")\n",
    "\n",
    "plt.legend()\n",
    "plt.tight_layout()\n",
    "plt.show()"
   ]
  },
  {
   "cell_type": "markdown",
   "metadata": {},
   "source": [
    "<div class=\"alert alert-block alert-info\">\n",
    "<b>Interpret</b> the results in view of (a) the single atom results, and (b) the (anti-)binding nature of the orbitals.<br>\n",
    "<b>Bonus:</b> Add the ion-ion repulsion to the energies.\n",
    "</div>"
   ]
  },
  {
   "cell_type": "markdown",
   "metadata": {},
   "source": [
    "<span style=\"color:red\">**Your Answer**</span>"
   ]
  },
  {
   "cell_type": "markdown",
   "metadata": {},
   "source": [
    "# Finish\n",
    "\n",
    "Save your Jupyter notebook as a PDF (\"File\" → \"Export Notebook As...\" → \"Export Notebook to PDF\") and upload it to Moodle."
   ]
  },
  {
   "cell_type": "code",
   "execution_count": null,
   "metadata": {},
   "outputs": [],
   "source": []
  }
 ],
 "metadata": {
  "kernelspec": {
   "display_name": "venv",
   "language": "python",
   "name": "python3"
  },
  "language_info": {
   "codemirror_mode": {
    "name": "ipython",
    "version": 3
   },
   "file_extension": ".py",
   "mimetype": "text/x-python",
   "name": "python",
   "nbconvert_exporter": "python",
   "pygments_lexer": "ipython3",
   "version": "3.13.0"
  }
 },
 "nbformat": 4,
 "nbformat_minor": 5
}
