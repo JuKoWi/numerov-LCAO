{
 "cells": [
  {
   "cell_type": "code",
   "execution_count": 2,
   "metadata": {},
   "outputs": [],
   "source": [
    "import matplotlib.pyplot as plt\n",
    "import numpy as np\n",
    "import scipy as sc\n",
    "import scipy.special  # Needed for old SciPy versions"
   ]
  },
  {
   "cell_type": "markdown",
   "metadata": {},
   "source": [
    "The radial Schrödinger equation (SE) for the hydrogen atom can be found from the separation Ansatz\n",
    "$$\n",
    "\\psi(\\vec{r}) = R_{n \\ell}(r) Y_{\\ell}^{m}(\\theta, \\varphi).\n",
    "$$\n",
    "Also see https://en.wikipedia.org/wiki/Hydrogen_atom#Wavefunction.\n",
    "\n",
    "If we further set $R_{n \\ell}(r) = \\frac{u_{n \\ell}(r)}{r}$, the SE becomes quite simple\n",
    "\\begin{equation}\n",
    "    \\left[-\\frac{1}{2}\\frac{\\mathrm{d}^2}{\\mathrm{d}r^2} - \\frac{1}{r} + \\frac{\\ell(\\ell+1)}{2 r^2} \\right]u_{n \\ell}(r) = E_{n \\ell} u_{n \\ell}(r).\n",
    "\\end{equation}\n",
    "In this form, it is similar to the 1D case we considered before, and we can (basically) use the same algorithm to solve it.\n",
    "\n",
    "When it comes to the analytical solutions, things do not look as simple anymore. For the radial part, we get the following terms:\n",
    "$$\n",
    "R_{n \\ell}(r) = \\sqrt{\\left( \\frac{2}{n} \\right)^3 \\frac{(n-\\ell-1)!}{2n(n+\\ell)!}} e^{-\\frac{r}{2}} \\left( \\frac{2r}{n} \\right)^{\\ell} L_{n-\\ell-1}^{2\\ell+1}\\left(\\frac{2r}{n}\\right).\n",
    "$$\n",
    "This function has already been implemented below and will be used for comparison with the numerical results. The eigenenergies are\n",
    "$$\n",
    "E_{n \\ell} = -\\frac{1}{2 n^2}\n",
    "$$\n",
    "with $n=1, 2, \\ldots$ and $\\ell=0, \\ldots, n-1$."
   ]
  },
  {
   "cell_type": "code",
   "execution_count": 3,
   "metadata": {},
   "outputs": [],
   "source": [
    "def radial_function(n, l, r):\n",
    "    \"\"\"See https://en.wikipedia.org/wiki/Hydrogen_atom#Wavefunction.\"\"\"\n",
    "    rho = 2 * r / n\n",
    "    L = sc.special.genlaguerre(n - l - 1, 2 * l + 1)\n",
    "    prefactor = np.sqrt((2 / n) ** 3 * sc.special.factorial(n - l - 1) / (2 * n * sc.special.factorial(n + l)))\n",
    "    return prefactor * np.exp(-rho / 2) * rho**l * L(rho)"
   ]
  },
  {
   "cell_type": "markdown",
   "metadata": {},
   "source": [
    "## Radial dependence"
   ]
  },
  {
   "cell_type": "code",
   "execution_count": 4,
   "metadata": {},
   "outputs": [],
   "source": [
    "# Import the prepared function for the radial SE\n",
    "from numerov import solve_schroedinger_radial"
   ]
  },
  {
   "cell_type": "code",
   "execution_count": null,
   "metadata": {},
   "outputs": [],
   "source": [
    "# Input parameters\n",
    "N = 2000  # Number of grid points\n",
    "xmax = 40  # Extent of the grid\n",
    "\n",
    "# Preparation of the grid\n",
    "rs = np.linspace(0, xmax, N)\n",
    "rs[0] = 1e-6  # Avoid dividing by zero\n",
    "h = rs[1] - rs[0]\n",
    "# ...and the potential\n",
    "V = -1 / rs  # Coulomb potential"
   ]
  },
  {
   "cell_type": "code",
   "execution_count": null,
   "metadata": {},
   "outputs": [],
   "source": [
    "k = 1  # Radial quantum number (= number of nodes),\n",
    "# The principal quantum number is n = k + 1 + ell\n",
    "ell = 0  # Angular quantum number\n",
    "Etry = -1\n",
    "\n",
    "# Use Numerov to obtain the unnormalized wave function\n",
    "u, E, dE, n_nodes = solve_schroedinger_radial(V, ell, k, h, Etry=Etry)\n",
    "print(f\"tried E={Etry:.1f} got n_nodes={n_nodes} and E={E:.1f} (expectation was n_nodes={k} and E={-0.5 / (k + 1 + ell) ** 2:.1f})\")\n",
    "\n",
    "# ...and normalize it\n",
    "u /= np.sqrt(np.trapezoid(u**2, dx=h))"
   ]
  },
  {
   "cell_type": "code",
   "execution_count": null,
   "metadata": {},
   "outputs": [],
   "source": [
    "# Plot results\n",
    "fix, axs = plt.subplots(2, 1, sharex=True)\n",
    "\n",
    "# ...first the potential\n",
    "axs[0].plot(rs[1:], V[1:], label=\"Coulomb\", color=\"black\")\n",
    "axs[0].plot(\n",
    "    rs[1:],\n",
    "    V[1:] + ell * (ell + 1) / (2 * rs[1:] ** 2),\n",
    "    label=\"eff. potential\",\n",
    "    color=\"green\",\n",
    "    linestyle=\"dashed\",\n",
    ")\n",
    "axs[0].axhline(y=E, color=\"grey\")\n",
    "axs[0].set_ylabel(r\"$V$\")\n",
    "axs[0].set_ylim((-0.6, 0.1))\n",
    "\n",
    "# ...and then the wave function\n",
    "axs[1].plot(rs, u, label=rf\"$E_{{{k + 1} {ell}}}={E:.1f}$\")\n",
    "axs[1].plot(\n",
    "    rs,\n",
    "    rs * radial_function(k + 1 + ell, ell, rs),\n",
    "    label=\"analytic\",\n",
    "    color=\"orange\",\n",
    "    linestyle=\"dashed\",\n",
    ")\n",
    "axs[1].set_xlabel(r\"$r$\")\n",
    "axs[1].set_ylabel(r\"$u$\")\n",
    "\n",
    "plt.legend()\n",
    "plt.tight_layout()\n",
    "plt.show()"
   ]
  },
  {
   "cell_type": "markdown",
   "metadata": {},
   "source": [
    "<div class=\"alert alert-block alert-info\">\n",
    "<b>Try</b> to calculate and plot the radial probability density $4\\pi r^2 |R_{n \\ell}(r)|^2$ for different states.\n",
    "</div>"
   ]
  },
  {
   "cell_type": "markdown",
   "metadata": {},
   "source": [
    "## Angular dependence\n",
    "\n",
    "For now, we have only taken a look at the radial part of the wave function, neglecting the angular contribution. The angular part looks as follows:\n",
    "$$\n",
    "Y_{\\ell}^{m}(\\theta, \\varphi) = (-1)^m \\sqrt{\\frac{(2\\ell+1)}{4\\pi}\\frac{(\\ell-m)!}{(\\ell+m)!}} P_{\\ell}^{m}(\\cos\\theta) e^{im\\varphi}.\n",
    "$$"
   ]
  },
  {
   "cell_type": "code",
   "execution_count": null,
   "metadata": {},
   "outputs": [],
   "source": [
    "def angular_function(m, l, theta, phi):\n",
    "    \"\"\"See https://en.wikipedia.org/wiki/Hydrogen_atom#Wavefunction.\"\"\"\n",
    "    P = sc.special.lpmv(m, l, np.cos(theta))\n",
    "    prefactor = (-1) ** m * np.sqrt((2 * l + 1) * sc.special.factorial(l - np.abs(m)) / (4 * np.pi * sc.special.factorial(l + np.abs(m))))\n",
    "    return prefactor * P * np.exp(1j * m * phi)"
   ]
  },
  {
   "cell_type": "markdown",
   "metadata": {},
   "source": [
    "<div class=\"alert alert-block alert-info\">\n",
    "<b>Take</b> a look at the hydrogen wave functions in the $x$-$z$ plane. What happens to increasing $n$? Can you identify orbitals you already know?\n",
    "\n",
    "<p>\n",
    "<b>Bonus:</b> Implement a check that ensures that only valid combinations of quantum numbers are allowed.\n",
    "</p>\n",
    "</div>"
   ]
  },
  {
   "cell_type": "code",
   "execution_count": null,
   "metadata": {},
   "outputs": [],
   "source": [
    "def hydrogen_probability_density(n, l, m):\n",
    "    \"\"\"Calculate hydrogen probability densities.\"\"\"\n",
    "    # Sample the x-z plane\n",
    "    z = x = np.linspace(-50, 50, 500)\n",
    "    z, x = np.meshgrid(z, x)\n",
    "\n",
    "    # Transform coordinates\n",
    "    r = np.sqrt(x**2 + z**2)\n",
    "    theta = np.arctan2(x, z)\n",
    "    phi = 0\n",
    "\n",
    "    # Calculate the wave function\n",
    "    psi = radial_function(n, l, r) * angular_function(m, l, theta, phi)\n",
    "\n",
    "    # Return the probability density, do not forget about the volume element!\n",
    "    return np.abs(psi) ** 2 * r**2 * np.cos(phi)"
   ]
  },
  {
   "cell_type": "code",
   "execution_count": null,
   "metadata": {},
   "outputs": [],
   "source": [
    "def plot_hydrogen(n, l, m):\n",
    "    \"\"\"Plot the hydrogen probability densities.\n",
    "\n",
    "    Args:\n",
    "        n (int): Principal quantum number.\n",
    "        l (int): Orbital quantum number.\n",
    "        m (int): Magnetic quantum number.\n",
    "    \"\"\"\n",
    "    fig, ax = plt.subplots(figsize=(12.5, 12.5))\n",
    "    ax.imshow(hydrogen_probability_density(n, l, m))\n",
    "    plt.title(rf\"$|\\psi_{{{n}{l}{m}}}(r, \\theta, \\varphi)|^2$\", size=30)\n",
    "    plt.xticks([], [])\n",
    "    plt.yticks([], [])\n",
    "    plt.show()"
   ]
  },
  {
   "cell_type": "code",
   "execution_count": null,
   "metadata": {},
   "outputs": [],
   "source": [
    "plot_hydrogen(4, 0, 0)"
   ]
  },
  {
   "cell_type": "code",
   "execution_count": null,
   "metadata": {},
   "outputs": [],
   "source": []
  }
 ],
 "metadata": {
  "kernelspec": {
   "display_name": "venv",
   "language": "python",
   "name": "python3"
  },
  "language_info": {
   "codemirror_mode": {
    "name": "ipython",
    "version": 3
   },
   "file_extension": ".py",
   "mimetype": "text/x-python",
   "name": "python",
   "nbconvert_exporter": "python",
   "pygments_lexer": "ipython3",
   "version": "3.13.0"
  }
 },
 "nbformat": 4,
 "nbformat_minor": 5
}
