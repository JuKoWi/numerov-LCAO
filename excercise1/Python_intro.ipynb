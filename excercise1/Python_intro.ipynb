{
 "cells": [
  {
   "cell_type": "markdown",
   "id": "4ecc08f7",
   "metadata": {
    "editable": true,
    "slideshow": {
     "slide_type": ""
    },
    "tags": []
   },
   "source": [
    "# Basics of Python\n",
    "\n",
    "Python is an *interpreted*, *dynamic typed*, *high-level* programming language, commonly used in scientific fields due to its accessible and convenient syntax.\n",
    "\n",
    "But without talking too much about the languages, let's just start with the basics!\n",
    "\n",
    "Try this cell:"
   ]
  },
  {
   "cell_type": "code",
   "execution_count": 1,
   "id": "1c0a6eb2",
   "metadata": {
    "editable": true,
    "slideshow": {
     "slide_type": ""
    },
    "tags": []
   },
   "outputs": [
    {
     "name": "stdout",
     "output_type": "stream",
     "text": [
      "computational chemistry\n"
     ]
    }
   ],
   "source": [
    "# This is a comment, it will be ignored\n",
    "string = 'computational chemistry'  # This is a variable\n",
    "print(string)  # Print the variable"
   ]
  },
  {
   "cell_type": "code",
   "execution_count": 2,
   "id": "197cd035",
   "metadata": {
    "editable": true,
    "slideshow": {
     "slide_type": ""
    },
    "tags": []
   },
   "outputs": [
    {
     "ename": "NameError",
     "evalue": "name 'strng' is not defined",
     "output_type": "error",
     "traceback": [
      "\u001b[31m---------------------------------------------------------------------------\u001b[39m",
      "\u001b[31mNameError\u001b[39m                                 Traceback (most recent call last)",
      "\u001b[36mCell\u001b[39m\u001b[36m \u001b[39m\u001b[32mIn[2]\u001b[39m\u001b[32m, line 3\u001b[39m\n\u001b[32m      1\u001b[39m \u001b[38;5;66;03m# If we make a mistake, Python, or more precise the Python interpreter\u001b[39;00m\n\u001b[32m      2\u001b[39m \u001b[38;5;66;03m# is nice enough to let us know where we made a mistake\u001b[39;00m\n\u001b[32m----> \u001b[39m\u001b[32m3\u001b[39m \u001b[38;5;28mprint\u001b[39m(\u001b[43mstrng\u001b[49m)  \u001b[38;5;66;03m# FIXME\u001b[39;00m\n",
      "\u001b[31mNameError\u001b[39m: name 'strng' is not defined"
     ]
    }
   ],
   "source": [
    "# If we make a mistake, Python, or more precise the Python interpreter\n",
    "# is nice enough to let us know where we made a mistake\n",
    "print(strng)  # FIXME"
   ]
  },
  {
   "cell_type": "code",
   "execution_count": null,
   "id": "a6ecdde5",
   "metadata": {
    "editable": true,
    "slideshow": {
     "slide_type": ""
    },
    "tags": []
   },
   "outputs": [],
   "source": [
    "# We can also combine variables text in the print function\n",
    "# This is called a f-string\n",
    "print(f'Hello {string}!')"
   ]
  },
  {
   "cell_type": "markdown",
   "id": "fefed561-9329-40fe-a2a1-4b62e7306cbe",
   "metadata": {},
   "source": [
    "Python has different data types. You have already encountered the *string* above."
   ]
  },
  {
   "cell_type": "code",
   "execution_count": null,
   "id": "0ef4007e-8d86-47a9-836f-6a863e30e153",
   "metadata": {},
   "outputs": [],
   "source": [
    "print(type(string))"
   ]
  },
  {
   "cell_type": "markdown",
   "id": "c89c2f98-5e21-4a28-b3ca-23b65c111b2f",
   "metadata": {},
   "source": [
    "One common pitfall is the dynamic typing in Python. This means that the type of a variable can change."
   ]
  },
  {
   "cell_type": "code",
   "execution_count": null,
   "id": "ac0bd393-402c-425e-bfb3-8fae406ddb5e",
   "metadata": {},
   "outputs": [],
   "source": [
    "string = list(string)\n",
    "# What is the type of the variable \"string\"?"
   ]
  },
  {
   "cell_type": "markdown",
   "id": "578a72c1-779a-4cca-8553-ba9fc07dcbb0",
   "metadata": {},
   "source": [
    "Common types are listed as follows."
   ]
  },
  {
   "cell_type": "code",
   "execution_count": null,
   "id": "102c4729-b316-45d5-aed4-fb9e467df7a4",
   "metadata": {},
   "outputs": [],
   "source": [
    "# integer\n",
    "i = 3\n",
    "\n",
    "# floats\n",
    "f = 2.4\n",
    "f = 1e4\n",
    "\n",
    "# strings\n",
    "s = \"some string\"\n",
    "\n",
    "# lists\n",
    "l = [1, 2, 3]\n",
    "\n",
    "# tuples\n",
    "t = (1, 2, 3)\n",
    "\n",
    "# dictionaries\n",
    "d = {\"key\": \"value\"}\n",
    "print(d[\"key\"])\n",
    "\n",
    "# booleans\n",
    "b = True"
   ]
  },
  {
   "cell_type": "markdown",
   "id": "35227d9a-51a8-4a95-8ccb-c2a19b5610d9",
   "metadata": {
    "editable": true,
    "slideshow": {
     "slide_type": ""
    },
    "tags": []
   },
   "source": [
    "## Task 1 - Variables\n",
    "\n",
    "* Create your own variable\n",
    "* Print the variable using a f-string\n",
    "* Is this variable accessible from other cells?"
   ]
  },
  {
   "cell_type": "code",
   "execution_count": null,
   "id": "cee011eb-d953-4162-975d-0a0e4416b55a",
   "metadata": {
    "editable": true,
    "slideshow": {
     "slide_type": ""
    },
    "tags": []
   },
   "outputs": [],
   "source": []
  },
  {
   "cell_type": "markdown",
   "id": "85b6fa1c",
   "metadata": {
    "editable": true,
    "slideshow": {
     "slide_type": ""
    },
    "tags": []
   },
   "source": [
    "## Task 2 - Functions\n",
    "\n",
    "In Python, functions are defined using the `def` keyword. A complete function definition requires a function name, a (possibly empty) number of arguments, and a function body.\n",
    "\n",
    "```python\n",
    "#            Arguments\n",
    "#                |\n",
    "#                v\n",
    "def function_name():  # Function header\n",
    "    # Function body below. Note the indentation!\n",
    "    pass\n",
    "```\n",
    "\n",
    "Note that the function body is indented. In Python, everything works with indentation, in contrast, e.g., to C where one uses curly braces.\n",
    "\n",
    "```python\n",
    "def func():\n",
    "    # Function that has no arguments.\n",
    "    pass\n",
    "\n",
    "\n",
    "def gunc(arg1):\n",
    "    \"\"\"Function takes one argument.\"\"\"\n",
    "    pass\n",
    "\n",
    "\n",
    "def hunc(arg1, arg2):\n",
    "    \"\"\"Function takes two arguments.\n",
    "    \n",
    "    I am a docstring. I can be used to describe the behaviour of functions.\n",
    "    \"\"\"\n",
    "    pass\n",
    "```\n",
    "\n",
    "Often, you want functions to act on the given arguments, e.g., do some calculations with them.\n",
    "Variables defined inside functions are usually not visible outside of the function body. They are only visible in the *scope* of the function, the indented part below the function header."
   ]
  },
  {
   "cell_type": "code",
   "execution_count": null,
   "id": "3a486608",
   "metadata": {
    "editable": true,
    "slideshow": {
     "slide_type": ""
    },
    "tags": []
   },
   "outputs": [],
   "source": [
    "def useless_pow(base, exponent):\n",
    "    power = base**exponent\n",
    "\n",
    "useless_pow(base=2, exponent=10)\n",
    "power  # The 'power' variable inside the function is not visible outside of its 'scope'"
   ]
  },
  {
   "cell_type": "markdown",
   "id": "4a2bed85",
   "metadata": {
    "editable": true,
    "slideshow": {
     "slide_type": ""
    },
    "tags": []
   },
   "source": [
    "To make the data of interest available outside of the function data can be *returned*, using the `return` statement. If the `return` statement is omitted an implicit `return None` is appended to the definition. "
   ]
  },
  {
   "cell_type": "code",
   "execution_count": null,
   "id": "e35cce10",
   "metadata": {
    "editable": true,
    "slideshow": {
     "slide_type": ""
    },
    "tags": []
   },
   "outputs": [],
   "source": [
    "def pow(base, exponent):\n",
    "    power = base**exponent\n",
    "    return power\n",
    "\n",
    "power = pow(base=2, exponent=10)\n",
    "power"
   ]
  },
  {
   "cell_type": "markdown",
   "id": "369d6b72-7dab-4e21-852e-853985d65c8f",
   "metadata": {
    "editable": true,
    "slideshow": {
     "slide_type": ""
    },
    "tags": []
   },
   "source": [
    "* Create your own function and `return` something\n",
    "* Execute the function and print the result"
   ]
  },
  {
   "cell_type": "code",
   "execution_count": null,
   "id": "6056cbf1-c566-41f6-a102-c0fac124e0a2",
   "metadata": {
    "editable": true,
    "slideshow": {
     "slide_type": ""
    },
    "tags": []
   },
   "outputs": [],
   "source": []
  },
  {
   "cell_type": "markdown",
   "id": "2a111319-d41a-448e-a119-2028d6b8d0cc",
   "metadata": {
    "editable": true,
    "slideshow": {
     "slide_type": ""
    },
    "tags": []
   },
   "source": [
    "## Task 3 - Morse-Potential\n",
    "\n",
    "Write a Python program that calculates the Morse-Potential\n",
    "\n",
    "\\begin{equation}\n",
    "E(r) = D (1 - \\exp(-\\beta(r-r_\\mathrm{eq})))^2\n",
    "\\end{equation}\n",
    "\n",
    "for a given distance value $r$,\n",
    "with the given well depth $D = 590.7$ kJ mol$^{-1}$, equilibrium distance $r_\\mathrm{eq} = 0.917$ Å, and potential width $\\beta = 2.203$ Å$^{-1}$ (parameters for HF molecules).\n",
    "\n",
    "* What happens in the `print` command?"
   ]
  },
  {
   "cell_type": "code",
   "execution_count": null,
   "id": "808683ef-e865-4c5a-83ed-016ddc082ab3",
   "metadata": {
    "editable": true,
    "scrolled": true,
    "slideshow": {
     "slide_type": ""
    },
    "tags": []
   },
   "outputs": [],
   "source": [
    "# Functions are defined with the keyword 'def'\n",
    "# The body of the function has to be indented\n",
    "# Unlike many other programming languages the start and end of\n",
    "# code blocks are handled via indentation, except of brackets\n",
    "from math import exp, sqrt\n",
    "\n",
    "def morse_pot(r):\n",
    "    D = 590.7\n",
    "    r_eq = 0.917\n",
    "    beta = 2.203\n",
    "    ### Your code comes here\n",
    "\n",
    "\n",
    "\n",
    "# Print the Morse potential value for a few values\n",
    "# Contents in the 'for' loop have to be indented as well\n",
    "# With 'for' we can loop over given values/elements,\n",
    "# i.e., r will have a different value in each iteration\n",
    "for r in (0, 0.917, 1, 2, 3):\n",
    "    E = morse_pot(r)\n",
    "    print(f\"morse_pot(r={r:.3f}) = {E:9.3f} kJ/mol\")  # We can set the formatting in f-strings too"
   ]
  },
  {
   "cell_type": "markdown",
   "id": "83ee26ab-9459-466e-b563-e60b81e84c86",
   "metadata": {
    "editable": true,
    "slideshow": {
     "slide_type": ""
    },
    "tags": []
   },
   "source": [
    "## Task 4 - Plotting\n",
    "\n",
    "Understand the code that is modified to output the Morse potential for a given number of points in an interval of $r$. It will plot the potential with `matplotlib` afterwards. Can you create some data on your own and plot it?"
   ]
  },
  {
   "cell_type": "code",
   "execution_count": null,
   "id": "2b46c134-1c1f-40ea-90b0-bec2a335f29b",
   "metadata": {
    "editable": true,
    "slideshow": {
     "slide_type": ""
    },
    "tags": []
   },
   "outputs": [],
   "source": [
    "# Modules, i.e, program packages with extra functionalities can be imported with 'import'\n",
    "import matplotlib.pyplot as plt\n",
    "\n",
    "def morse_interval(r_start, r_end, steps):\n",
    "    stepwidth = (r_end - r_start) / (steps - 1)\n",
    "    E_res = []  # This is an empty list\n",
    "    r_res = []  # Same as list()\n",
    "\n",
    "    r = r_start\n",
    "    for i in range(steps):\n",
    "        r_res.append(r)  # We can append values to a list\n",
    "        E_res.append(morse_pot(r))\n",
    "        r += stepwidth\n",
    "        # Same as:\n",
    "        # r = r + stepwidth\n",
    "    return r_res, E_res  # We can return as many values as we want\n",
    "\n",
    "\n",
    "r_start = 0.5\n",
    "r_end = 5\n",
    "steps = 50\n",
    "rs, Es = morse_interval(r_start, r_end, steps)\n",
    "\n",
    "# Plot the function via matplotlib (we use the conventional alias 'plt')\n",
    "plt.figure()\n",
    "plt.plot(rs, Es, \"--o\")\n",
    "plt.xlabel(\"$r$ / Å\")\n",
    "plt.ylabel(\"$E$ / (kJ/mol)\")\n",
    "plt.show()"
   ]
  },
  {
   "cell_type": "code",
   "execution_count": null,
   "id": "59c24ee3-6791-4fe7-9d08-fb0e15d99750",
   "metadata": {},
   "outputs": [],
   "source": []
  },
  {
   "cell_type": "markdown",
   "id": "f9d31ab0-2f46-4042-a2db-29b2c1ee380b",
   "metadata": {
    "editable": true,
    "slideshow": {
     "slide_type": ""
    },
    "tags": []
   },
   "source": [
    "## Task 5 - Quiz\n",
    "\n",
    "Continuing the previous example, we will continue with some more intricacies.\n",
    "\n",
    "\n",
    "What is the outcome of the following statements?\n",
    "\n",
    "Try to understand the code example first and see if your assumption was correct by executing the cell. Sometimes it is helpful to execute the cells more than once!\n",
    "\n",
    "Not all of the following quizzes are understandable from the get-go.\n",
    "If anything is unclear, just ask."
   ]
  },
  {
   "cell_type": "code",
   "execution_count": null,
   "id": "b0d5dc04-8f77-4b8d-83c7-f9c59f4e7f83",
   "metadata": {},
   "outputs": [],
   "source": [
    "a = 1\n",
    "a += 1\n",
    "a"
   ]
  },
  {
   "cell_type": "code",
   "execution_count": null,
   "id": "8cfb2af8-1dae-4573-8556-07436f040561",
   "metadata": {},
   "outputs": [],
   "source": [
    "b = []\n",
    "b.append(42)\n",
    "b"
   ]
  },
  {
   "cell_type": "code",
   "execution_count": null,
   "id": "e65ded9e-030e-4ce3-9d8b-c04b6e542798",
   "metadata": {},
   "outputs": [],
   "source": [
    "b.append(7)\n",
    "b[0]"
   ]
  },
  {
   "cell_type": "code",
   "execution_count": null,
   "id": "65573368-2b46-415b-b2cf-821fffd93d9c",
   "metadata": {},
   "outputs": [],
   "source": [
    "b[-1]"
   ]
  },
  {
   "cell_type": "code",
   "execution_count": null,
   "id": "473bcc10-2dbf-45c5-be6a-a7b96e3a667b",
   "metadata": {},
   "outputs": [],
   "source": [
    "[1] * 3"
   ]
  },
  {
   "cell_type": "markdown",
   "id": "c637d15f-270a-4887-9224-11620c487e10",
   "metadata": {},
   "source": [
    "## Task 6 - Comparisons\n",
    "\n",
    "Conditions can be handled with the keyword `if` followed by said condition\n",
    "```python\n",
    "if condition:\n",
    "    do_stuff()  # Note the indentation\n",
    "```\n",
    "If you need a fallback when the condition is not met, you can use the keyword `else`.\n",
    "\n",
    "For the conditions, comparison can be utilized. These can be `==`, `<`, `>`, `<=`, `>=` and `!=`. Find out what these operations do by modifying the code below."
   ]
  },
  {
   "cell_type": "code",
   "execution_count": null,
   "id": "813f35ea-3e3a-4689-aae8-437d25f0f07a",
   "metadata": {},
   "outputs": [],
   "source": [
    "a = 1\n",
    "b = 2\n",
    "if a < b:  # Change this line of code, and the ones above if needed\n",
    "    print('Condition is met.')\n",
    "else:\n",
    "    print('Condition is NOT met!')"
   ]
  },
  {
   "cell_type": "markdown",
   "id": "428d4547-f479-4bf9-9981-7127b38bd0f9",
   "metadata": {},
   "source": [
    "Special to Python are the `is` and `not` keywords. The `is` keyword is similar to the comparison `==`, but it will check if the objects are identical."
   ]
  },
  {
   "cell_type": "code",
   "execution_count": null,
   "id": "62772ff3-8c79-4317-93af-17d622717c17",
   "metadata": {},
   "outputs": [],
   "source": [
    "n = None\n",
    "print(n is None)  # n and None are the identical objects\n",
    "l = [1, 2]\n",
    "print(l is [1, 2])  # These are not\n",
    "print(l is not [1, 2])  # But we can use 'not' to make the statement true again"
   ]
  },
  {
   "cell_type": "markdown",
   "id": "dc25917f-6cdd-40fb-a004-850ce741df49",
   "metadata": {},
   "source": [
    "## Task 7 - Linear algebra\n",
    "\n",
    "Somehow, the function to calculate the norm of a vector got scrambled up. Bring the function in the correct order and properly indent the code."
   ]
  },
  {
   "cell_type": "code",
   "execution_count": null,
   "id": "5267088e-bdce-407c-a14d-eb4e57992d54",
   "metadata": {},
   "outputs": [],
   "source": [
    "for i in range(length):\n",
    "result += vec1[i]**2\n",
    "return result\n",
    "length = len(vec1)\n",
    "def norm(vec1):\n",
    "result = 0\n",
    "result = sqrt(result)\n",
    "\n",
    "vec1 = (1, 2, 3)\n",
    "norm(vec1)"
   ]
  },
  {
   "cell_type": "markdown",
   "id": "b8bed3f1-e656-4f21-9318-d9194860de5c",
   "metadata": {},
   "source": [
    "## Task 8 - NumPy\n",
    "\n",
    "The best we can often do is not write every linear algebra function by ourselves but use the functionalities provided by NumPy."
   ]
  },
  {
   "cell_type": "code",
   "execution_count": null,
   "id": "b3e99b0c-ff41-426f-907d-5da07c47d00b",
   "metadata": {},
   "outputs": [],
   "source": [
    "import numpy as np  # np is the alias we are using to access the numpy functions\n",
    "\n",
    "vec1 = np.array([1, 2, 3])\n",
    "print(np.linalg.norm(vec1))"
   ]
  },
  {
   "cell_type": "markdown",
   "id": "ee84ba45-e04c-41da-80c5-8ecda255fd89",
   "metadata": {},
   "source": [
    "NumPy has a lot of functionalities; below are only listed a few, but the most important ones. Try to get familiar with some of the functions."
   ]
  },
  {
   "cell_type": "code",
   "execution_count": null,
   "id": "cd1227d4-4167-42b4-ae37-65378e821dda",
   "metadata": {},
   "outputs": [],
   "source": [
    "# Array creation\n",
    "a = np.array([[1, 2], [3, 4]])\n",
    "np.zeros(3)\n",
    "np.ones(4)\n",
    "np.random.random(5)\n",
    "np.arange(6, 7, 0.1)\n",
    "\n",
    "# Constants\n",
    "np.pi\n",
    "np.e\n",
    "\n",
    "# Basic math operations\n",
    "np.abs(a)\n",
    "np.sum(a)\n",
    "np.sqrt(a)\n",
    "\n",
    "# Elementary functions\n",
    "np.exp(np.e)\n",
    "np.log(np.e)\n",
    "np.sin(np.pi)\n",
    "np.cos(np.pi)\n",
    "\n",
    "# Linear algebra\n",
    "np.linalg.det(a)\n",
    "np.dot(a, a)"
   ]
  },
  {
   "cell_type": "markdown",
   "id": "b96447c6-0f86-4381-8408-36dd5c0aeb76",
   "metadata": {},
   "source": [
    "## Task 9 - Bonus Quiz\n",
    "\n",
    "It is okay if you *not* finish this quiz. Consider it as a bonus section for the curious ones.\n",
    "\n",
    "What is the outcome of the following statements?\n",
    "\n",
    "Try to understand the code example first and see if your assumption was correct by executing the cell."
   ]
  },
  {
   "cell_type": "code",
   "execution_count": null,
   "id": "a8d0e0dc-2efc-4e7b-94b2-9b276e482024",
   "metadata": {},
   "outputs": [],
   "source": [
    "# Floating point arithmetic and comparisons\n",
    "1/49 * 49 == 1/51 * 51"
   ]
  },
  {
   "cell_type": "code",
   "execution_count": null,
   "id": "5fcd6731-7cf6-43e4-a278-f0a2dced5dcd",
   "metadata": {},
   "outputs": [],
   "source": [
    "[1, 2, 3] == [1, 2, 3]"
   ]
  },
  {
   "cell_type": "code",
   "execution_count": null,
   "id": "084737d3-e282-4df4-bb3c-06e51169eeec",
   "metadata": {},
   "outputs": [],
   "source": [
    "[1, 2, 3] is [1, 2, 3]"
   ]
  },
  {
   "cell_type": "code",
   "execution_count": null,
   "id": "f92f3857-890c-414a-b0a8-3b079a732d8c",
   "metadata": {},
   "outputs": [],
   "source": [
    "# What is the final value of \"counter\"? Or put differently, how many times is the loop body executed?\n",
    "counter = 0\n",
    "for i in range(3, 10):\n",
    "    counter += 1\n",
    "counter"
   ]
  },
  {
   "cell_type": "code",
   "execution_count": null,
   "id": "c444da06-5de0-475b-bec6-950fb825be36",
   "metadata": {},
   "outputs": [],
   "source": [
    "# What is the final value of \"counter\"? Or put differently, how many times is the loop body executed?\n",
    "counter = 0\n",
    "i = 13\n",
    "while i >= 6:\n",
    "    i -= 1\n",
    "    counter += 1\n",
    "counter"
   ]
  },
  {
   "cell_type": "code",
   "execution_count": null,
   "id": "6fa986f6-85e7-407b-a57c-91baa9531db6",
   "metadata": {},
   "outputs": [],
   "source": [
    "# What is the type of\n",
    "type([1, 2, 3])"
   ]
  },
  {
   "cell_type": "code",
   "execution_count": null,
   "id": "62858374-5479-4e94-be3e-a89002fd5166",
   "metadata": {},
   "outputs": [],
   "source": [
    "# What is the type of\n",
    "type((1, 2, 3))"
   ]
  },
  {
   "cell_type": "code",
   "execution_count": null,
   "id": "ce6cb4a8-09bf-4156-9f72-854c1b9d422f",
   "metadata": {},
   "outputs": [],
   "source": [
    "# What is the outcome of\n",
    "_ = [1, 2, 3]\n",
    "_[2] = 10\n",
    "_"
   ]
  },
  {
   "cell_type": "code",
   "execution_count": null,
   "id": "7150543f-49fe-4710-a1dd-390eba1b891d",
   "metadata": {},
   "outputs": [],
   "source": [
    "# What is the outcome of\n",
    "_ = (1, 2, 3)\n",
    "_[2] = 10\n",
    "_"
   ]
  },
  {
   "cell_type": "code",
   "execution_count": null,
   "id": "ddef03b7-cfa3-423f-bcac-9eec3d534755",
   "metadata": {},
   "outputs": [],
   "source": [
    "# What is the outcome of\n",
    "lst = list(range(3000))\n",
    "last_element(lst)"
   ]
  },
  {
   "cell_type": "code",
   "execution_count": null,
   "id": "c27c44e3-1dbc-48be-a05d-c2c9df12fddb",
   "metadata": {},
   "outputs": [],
   "source": [
    "s = 1 + 2 + 3\n",
    "    + 4"
   ]
  },
  {
   "cell_type": "code",
   "execution_count": null,
   "id": "2318a598-ebdb-49b1-881c-97c360fb724c",
   "metadata": {},
   "outputs": [],
   "source": [
    "d = 10.12345\n",
    "f\"#{d: >12.4f}#\""
   ]
  },
  {
   "cell_type": "code",
   "execution_count": null,
   "id": "7daa45d0-8f00-4aac-bf47-96c1348ee88e",
   "metadata": {},
   "outputs": [],
   "source": [
    "10 + 2 * 4**2"
   ]
  },
  {
   "cell_type": "code",
   "execution_count": null,
   "id": "4078a348-e281-46e6-b070-8812656f3e3d",
   "metadata": {},
   "outputs": [],
   "source": [
    "10 // 3"
   ]
  },
  {
   "cell_type": "code",
   "execution_count": null,
   "id": "fef8eb44-a0c0-4d72-bf3c-f4fd8bc6d147",
   "metadata": {},
   "outputs": [],
   "source": [
    "10 % 3"
   ]
  },
  {
   "cell_type": "code",
   "execution_count": null,
   "id": "e39cccfb-3a33-4405-8c80-d4e6df282453",
   "metadata": {},
   "outputs": [],
   "source": [
    "\"abcdefgh\"[2:-1]"
   ]
  },
  {
   "cell_type": "code",
   "execution_count": null,
   "id": "f09f99d6-bc16-4f14-8f88-54c48dce2594",
   "metadata": {},
   "outputs": [],
   "source": [
    "[i for i in range(10) if (i % 2) == 0]"
   ]
  },
  {
   "cell_type": "code",
   "execution_count": null,
   "id": "a2d94623-30d8-4a10-9f21-7d94779999a7",
   "metadata": {},
   "outputs": [],
   "source": [
    "# Can you name the following datatypes? What is the difference between them?\n",
    "a = 7\n",
    "b = 2.718\n",
    "c = [a, b]\n",
    "d = (a, b)"
   ]
  },
  {
   "cell_type": "code",
   "execution_count": null,
   "id": "0373ca4d-713a-4b56-9446-23c8077b685a",
   "metadata": {},
   "outputs": [],
   "source": [
    "# We have learned how to define functions and how to print variables\n",
    "# There are two typos in the following function. Can you fix them?\n",
    "def func()\n",
    "    print(\"b equals {b}\")\n",
    "\n",
    "func()"
   ]
  },
  {
   "cell_type": "code",
   "execution_count": null,
   "id": "00a06d1e-37da-4e9b-a870-7e06af1604be",
   "metadata": {},
   "outputs": [],
   "source": [
    "# We have learned various comparison operations. Can you recall them?\n",
    "# What is the difference between the following lines?\n",
    "a == 8\n",
    "a = 8"
   ]
  },
  {
   "cell_type": "code",
   "execution_count": null,
   "id": "36d16419-0ca9-4cad-b632-3413ee823fbf",
   "metadata": {},
   "outputs": [],
   "source": []
  }
 ],
 "metadata": {
  "celltoolbar": "Tags",
  "kernelspec": {
   "display_name": "venv",
   "language": "python",
   "name": "python3"
  },
  "language_info": {
   "codemirror_mode": {
    "name": "ipython",
    "version": 3
   },
   "file_extension": ".py",
   "mimetype": "text/x-python",
   "name": "python",
   "nbconvert_exporter": "python",
   "pygments_lexer": "ipython3",
   "version": "3.13.0"
  }
 },
 "nbformat": 4,
 "nbformat_minor": 5
}
